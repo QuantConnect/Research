{
 "cells": [
  {
   "attachments": {},
   "cell_type": "markdown",
   "metadata": {},
   "source": [
    "# Capital Structure Arbitrage"
   ]
  },
  {
   "attachments": {},
   "cell_type": "markdown",
   "metadata": {},
   "source": [
    "Capital structure arbitrage is the term used to describe the fashion for arbitraging equity claims against fixed income and convertible claims. At its most sophisticated, practitioners build elaborate models of the capital structure of a company to determine the relative values of the various claims—in particular, stock, bonds, and convertible bonds. At its simplest, the trader looks to see if equity puts are cheaper than credit derivatives and if so buys the one and sells the other"
   ]
  },
  {
   "attachments": {},
   "cell_type": "markdown",
   "metadata": {},
   "source": [
    "Denoting the value of a risk-free put, call and bond by $P_0$, $C_0$, and $B_0$ and the value of risky claims on the issuer (I) of the stock by $P_I$, $C_I$, and $B_I$, we obtain"
   ]
  },
  {
   "attachments": {},
   "cell_type": "markdown",
   "metadata": {},
   "source": [
    "the risk-free put is worth more than the risky put. The excess value is equal to the difference in risky and risk-free bond prices (times the strike price). With maturity-independent rates and credit spreads for clarity and setting t = 0, we obtain\n",
    "\n"
   ]
  },
  {
   "attachments": {},
   "cell_type": "markdown",
   "metadata": {},
   "source": [
    "$B_0-B_I=e^{-r T}\\left(1-e^{-\\lambda T}\\right)$\n"
   ]
  },
  {
   "cell_type": "code",
   "execution_count": 1,
   "metadata": {},
   "outputs": [],
   "source": [
    "import sympy as smp"
   ]
  },
  {
   "cell_type": "code",
   "execution_count": 2,
   "metadata": {},
   "outputs": [
    {
     "data": {
      "text/latex": [
       "$\\displaystyle B_{0} - B_{1}$"
      ],
      "text/plain": [
       "B_0 - B_1"
      ]
     },
     "execution_count": 2,
     "metadata": {},
     "output_type": "execute_result"
    }
   ],
   "source": [
    "B_0,B_1,r,T,lambda_ = smp.symbols('B_0 B_1 r T lambda_', real=True) \n",
    "expr = B_0 - B_1 \n",
    "expr"
   ]
  },
  {
   "cell_type": "code",
   "execution_count": 3,
   "metadata": {},
   "outputs": [
    {
     "data": {
      "text/latex": [
       "$\\displaystyle B_{0} - B_{1} = \\left(1 - e^{- T \\lambda_{}}\\right) e^{- T r}$"
      ],
      "text/plain": [
       "Eq(B_0 - B_1, (1 - exp(-T*lambda_))*exp(-T*r))"
      ]
     },
     "execution_count": 3,
     "metadata": {},
     "output_type": "execute_result"
    }
   ],
   "source": [
    " #for writing equation using smp.Ex()\n",
    "smp.Eq(expr,smp.exp(-r*T)*(1-smp.exp(-lambda_*T)))\n"
   ]
  },
  {
   "attachments": {},
   "cell_type": "markdown",
   "metadata": {},
   "source": [
    "the extra value is the strike price times the (pseudo-) probability that default occurs. This payoff is also more or less exactly the payoff of a default put in the credit derivatives market.\\\n",
    "the trader buys an equity option on the exchange at a ‘‘very high’’ implied volatility and sells a default put on the same stock in the credit derivatives market locking in a risk-free return.\\\n",
    " buy one at-the-money put and sell two puts struck at half the current stock price"
   ]
  },
  {
   "attachments": {},
   "cell_type": "markdown",
   "metadata": {},
   "source": [
    "\\begin{aligned}\n",
    "&\\begin{aligned}\n",
    "\\sigma_{l o c}^2(K, T, S) & =\\sigma^2-\\lambda \\frac{K \\frac{\\partial C}{\\partial K}}{\\frac{1}{2} K^2 \\frac{\\partial^2 C}{\\partial K^2}} \\\\\n",
    "& =\\sigma^2+2 \\lambda \\sigma \\sqrt{T} \\frac{N\\left(d_2\\right)}{N^{\\prime}\\left(d_2\\right)}\n",
    "\\end{aligned}\\\\\n",
    "&d_2=\\frac{\\log S / K+\\lambda T}{\\sigma \\sqrt{T}}-\\frac{\\sigma \\sqrt{T}}{2}\n",
    "\\end{aligned}"
   ]
  },
  {
   "attachments": {},
   "cell_type": "markdown",
   "metadata": {},
   "source": [
    "Then, for very low strikes,"
   ]
  },
  {
   "attachments": {},
   "cell_type": "markdown",
   "metadata": {},
   "source": [
    "$\\sigma_{l o c}^2(K, T, S) \\approx \\sigma^2+2 \\lambda \\sigma \\sqrt{T} \\sqrt{2 \\pi} e^{+d_2^2 / 2}$"
   ]
  },
  {
   "attachments": {},
   "cell_type": "markdown",
   "metadata": {},
   "source": [
    "It follows that implied volatility in the jump-to-ruin model increases very fast as the strike decreases from at-the-money and tends to the constant σ for high strikes"
   ]
  },
  {
   "cell_type": "code",
   "execution_count": 4,
   "metadata": {},
   "outputs": [],
   "source": [
    "sigma_loc_squared = smp.symbols('sigma_loc_squared', cls=smp.Function) \n",
    "sigma,K,d_2, S, f_d_2, mu_stock, sigma_stock = smp.symbols('sigma K d_2 S f_d_2 mu_stock sigma_stock', real=True) "
   ]
  },
  {
   "cell_type": "code",
   "execution_count": 6,
   "metadata": {},
   "outputs": [
    {
     "data": {
      "text/latex": [
       "$\\displaystyle \\frac{2 \\sqrt{T} \\lambda_{} \\sigma \\left(\\begin{cases} \\frac{\\operatorname{erf}{\\left(\\frac{\\sqrt{2} \\left(T - \\mu_{stock}\\right)}{2 \\sigma_{stock}} \\right)}}{2} + \\frac{1}{2} & \\text{for}\\: \\left(\\left|{\\arg{\\left(\\sigma_{stock} \\right)}}\\right| \\leq \\frac{\\pi}{4} \\wedge \\left|{2 \\arg{\\left(T \\right)} - 4 \\arg{\\left(\\sigma_{stock} \\right)} + 2 \\arg{\\left(\\frac{T - \\mu_{stock}}{T} \\right)} + 2 \\pi}\\right| < \\pi\\right) \\vee \\left|{\\arg{\\left(\\sigma_{stock} \\right)}}\\right| < \\frac{\\pi}{4} \\\\\\frac{\\sqrt{2} \\int\\limits_{-\\infty}^{0} e^{- \\frac{\\left(z + T - \\mu_{stock}\\right)^{2}}{2 \\sigma_{stock}^{2}}}\\, dz}{2 \\sqrt{\\pi} \\sigma_{stock}} & \\text{otherwise} \\end{cases}\\right)}{d_{2}} + \\sigma^{2}$"
      ],
      "text/plain": [
       "2*sqrt(T)*lambda_*sigma*Piecewise((erf(sqrt(2)*(T - mu_stock)/(2*sigma_stock))/2 + 1/2, (Abs(arg(sigma_stock)) < pi/4) | ((Abs(arg(sigma_stock)) <= pi/4) & (Abs(2*arg(T) - 4*arg(sigma_stock) + 2*arg((T - mu_stock)/T) + 2*pi) < pi))), (sqrt(2)*Integral(exp(-(_z + T - mu_stock)**2/(2*sigma_stock**2)), (_z, -oo, 0))/(2*sqrt(pi)*sigma_stock), True))/d_2 + sigma**2"
      ]
     },
     "execution_count": 6,
     "metadata": {},
     "output_type": "execute_result"
    }
   ],
   "source": [
    "from sympy.stats import P, E, variance, Die, Normal\n",
    "from sympy import simplify\n",
    "f_d_2 = Normal('d_2',mu_stock, sigma_stock) \n",
    "F_d_2 = simplify(P(f_d_2 <= T))\n",
    "d_2 = (smp.log(S/K) + lambda_ * T) / (sigma * smp.sqrt(T)) - ((sigma * smp.sqrt(T)) / 2)\n",
    "sigma_loc_squared = sigma**2 + 2 * lambda_ * sigma * smp.sqrt(T) * (F_d_2 / f_d_2)\n",
    "sigma_loc_squared"
   ]
  },
  {
   "attachments": {},
   "cell_type": "markdown",
   "metadata": {},
   "source": [
    "fair price of a zero coupon bond of GT (assuming zero rates) should be given by"
   ]
  },
  {
   "attachments": {},
   "cell_type": "markdown",
   "metadata": {},
   "source": [
    "$P_t=e^{-\\lambda t} R+\\left(1-e^{-\\lambda t}\\right)$"
   ]
  },
  {
   "cell_type": "code",
   "execution_count": 7,
   "metadata": {},
   "outputs": [],
   "source": [
    "P_t = smp.symbols('P_t', cls=smp.Function) \n",
    "t,R = smp.symbols('t R', real=True) \n",
    "P_t = smp.exp(-lambda_*t)*R+(1-smp.exp(-lambda_*t))"
   ]
  },
  {
   "attachments": {},
   "cell_type": "markdown",
   "metadata": {},
   "source": [
    "where R is the recovery rate\\\n",
    "most of the volatility skew for stocks with high credit spreads can be ascribed to default risk."
   ]
  },
  {
   "attachments": {},
   "cell_type": "markdown",
   "metadata": {},
   "source": [
    "## Model setup"
   ]
  },
  {
   "attachments": {},
   "cell_type": "markdown",
   "metadata": {},
   "source": [
    "The level of V at which the company defaults is given by L D where D is\n",
    "today’s value of its debt (per share) and L is the recovery rate. As discussed above, it is further assumed that the recovery rate L is a lognormally distributed random variable with mean $\\bar{L}$ and standard deviation λ so that"
   ]
  },
  {
   "attachments": {},
   "cell_type": "markdown",
   "metadata": {},
   "source": [
    "$L D=\\bar{L} D e^{\\lambda Z-\\lambda^2 / 2}$\\\n",
    "where Z ∼ N(0, 1). The random variable Z is assumed to be independent of $W_t$."
   ]
  },
  {
   "cell_type": "code",
   "execution_count": 9,
   "metadata": {},
   "outputs": [
    {
     "data": {
      "text/latex": [
       "$\\displaystyle D L = D barL e^{- \\frac{\\lambda_{dev}^{2}}{2} + \\frac{\\lambda_{dev} Z}{2}}$"
      ],
      "text/plain": [
       "Eq(D*L, D*barL*exp(-lambda_dev**2/2 + lambda_dev*Z/2))"
      ]
     },
     "execution_count": 9,
     "metadata": {},
     "output_type": "execute_result"
    }
   ],
   "source": [
    "L,D,barL,lambda_dev = smp.symbols('L D barL lambda_dev', real=True) \n",
    "Z = Normal('Z',0, 1) \n",
    "exprr = L*D\n",
    "smp.Eq(exprr,barL*D*smp.exp((lambda_dev*Z-lambda_dev**2)/2))\n"
   ]
  },
  {
   "attachments": {},
   "cell_type": "markdown",
   "metadata": {},
   "source": [
    "## Survival Probability"
   ]
  },
  {
   "attachments": {},
   "cell_type": "markdown",
   "metadata": {},
   "source": [
    "$X_t:=\\sigma W_t-\\lambda Z-\\frac{\\sigma^2 t}{2}-\\frac{\\lambda^2}{2}$\\\n",
    "\\\n",
    "Then $X_t$ is normally distributed with\\\n",
    "\\\n",
    "$\\begin{aligned} \\mathbb{E}\\left[X_t\\right] & =-\\frac{\\sigma^2}{2}\\left(t+\\frac{\\lambda^2}{\\sigma^2}\\right) \\\\ \\operatorname{Var}\\left[X_t\\right] & =\\sigma^2\\left(t+\\frac{\\lambda^2}{\\sigma^2}\\right)\\end{aligned}$\\\n",
    "Default occurs when\\\n",
    "\\\n",
    "$V=V_0 e^{\\sigma W_t-\\sigma^2 t / 2}=L D=\\bar{L} D e^{\\lambda Z-\\lambda^2 / 2}$\\\n",
    "\\\n",
    "or equivalently when\\\n",
    "\\\n",
    "$X_t=\\log \\left(\\frac{\\bar{L} D}{V_0}\\right)-\\lambda^2$"
   ]
  },
  {
   "cell_type": "code",
   "execution_count": 19,
   "metadata": {},
   "outputs": [
    {
     "data": {
      "text/latex": [
       "$\\displaystyle V_{0} e^{W_{t} \\sigma - \\frac{\\sigma^{2} t}{2}}$"
      ],
      "text/plain": [
       "V_0*exp(W_t*sigma - sigma**2*t/2)"
      ]
     },
     "execution_count": 19,
     "metadata": {},
     "output_type": "execute_result"
    }
   ],
   "source": [
    "X_t,sigma,W_t,E_X_t,Var_X_t,V,V_0 = smp.symbols('X_t sigma W_t E_X_t Var_X_t V V_0', real=True) \n",
    "X_t = sigma*W_t-lambda_dev*Z-((sigma**2*t)/2) - (lambda_dev**2/2)\n",
    "E_X_t = -(sigma**2/2)*(t+(lambda_dev**2)/2)\n",
    "Var_X_t = sigma**2*(t+(lambda_dev**2)/2)\n",
    "V = V_0 * smp.exp(sigma*W_t-sigma**2*t/2)\n",
    "\n",
    "#Default case\n",
    "if V == exprr or X_t == smp.log((barL*D)/V_0)-lambda_dev**2:\n",
    "    print(\"Default\")\n",
    "V\n",
    "\n"
   ]
  },
  {
   "attachments": {},
   "cell_type": "markdown",
   "metadata": {},
   "source": [
    "Since $\\hat{X}$ is a Brownian motion with drift, the probability of survival (or the probability of not hitting the default barrier) is given by the Black-Scholes- like formula\n"
   ]
  },
  {
   "attachments": {},
   "cell_type": "markdown",
   "metadata": {},
   "source": [
    "$P_t=N\\left(-\\frac{A_t}{2}+\\frac{\\log d}{A_t}\\right)-d N\\left(-\\frac{A_t}{2}-\\frac{\\log d}{A_t}\\right)$\\\n",
    "\\\n",
    "with\\\n",
    "\\\n",
    "$d=\\frac{V_0 e^{\\lambda^2}}{\\bar{L} D} ; A_t^2=\\sigma^2 t+\\lambda^2$\\\n",
    "\\\n",
    "Since $P_t$ is the probability of survival up to time t, it may be estimated directly from the prices of risky instruments such as bonds and credit default swaps (CDS).\n"
   ]
  },
  {
   "cell_type": "code",
   "execution_count": 37,
   "metadata": {},
   "outputs": [
    {
     "data": {
      "text/latex": [
       "$\\displaystyle expr_{1} - \\frac{V_{0} e^{\\lambda_{dev}^{2}} expr_{2}}{D L}$"
      ],
      "text/plain": [
       "expr1 - V_0*exp(lambda_dev**2)*expr2/(D*L)"
      ]
     },
     "execution_count": 37,
     "metadata": {},
     "output_type": "execute_result"
    }
   ],
   "source": [
    "A_t_squared,d,A_t = smp.symbols('A_t_squared d A_t', real=True) \n",
    "P_t = smp.symbols('P_t', cls=smp.Function)\n",
    "exprs1 = Normal('expr1',0,1 )\n",
    "exprs2 = Normal('expr2',0,1 )\n",
    "expr1 = (-A_t/2) + (smp.log(d)/A_t) \n",
    "expr2 = (-A_t/2) - (smp.log(d)/A_t) \n",
    "d = V_0 * smp.exp(lambda_dev**2) / (L*D) \n",
    "A_t_squared = sigma**2 * t + lambda_dev**2\n",
    "P_t = exprs1 - d * exprs2\n",
    "P_t"
   ]
  },
  {
   "attachments": {},
   "cell_type": "markdown",
   "metadata": {},
   "source": [
    "## Equity volatility"
   ]
  },
  {
   "attachments": {},
   "cell_type": "markdown",
   "metadata": {},
   "source": [
    "The stock price S is approximately related (neglecting the time value of the option) to the firm value V via\n",
    "$V \\approx L D+S$ then\\\n",
    "\\\n",
    "$\\sigma \\sim \\frac{\\delta V}{V} \\approx \\frac{\\delta S}{S+L D}=\\frac{\\delta S}{S} \\frac{S}{S+L D} \\sim \\sigma_S \\frac{S}{S+L D}$\\\n",
    "\\\n",
    "where $σ_S$ is the stock volatility. We see that as the stock price rises, keeping σ fixed, the volatility $σ_S$ of the stock declines. Conversely, as the stock price S approaches zero, the stock volatility increases as 1/S."
   ]
  },
  {
   "attachments": {},
   "cell_type": "markdown",
   "metadata": {},
   "source": [
    "## Model calibration"
   ]
  },
  {
   "attachments": {},
   "cell_type": "markdown",
   "metadata": {},
   "source": [
    "We end up with the following model in terms of market observables\\\n",
    "\\\n",
    "$P_t=N\\left(-\\frac{A_t}{2}+\\frac{\\log d}{A_t}\\right)-d N\\left(-\\frac{A_t}{2}-\\frac{\\log d}{A_t}\\right)$\\\n",
    "\\\n",
    "$d=\\frac{S_0+\\bar{L} D}{\\bar{L} D} e^{\\lambda^2} ; A_t^2=\\left(\\sigma_S^* \\frac{S^*}{S^*+\\bar{L} D}\\right)^2 t+\\lambda^2$\\\n",
    "\\\n",
    "where $S^*$ is some reference stock price and $σ_{S}^*$ the stock volatility at that price."
   ]
  },
  {
   "cell_type": "code",
   "execution_count": 40,
   "metadata": {},
   "outputs": [],
   "source": [
    "S_0,S_t = smp.symbols('S_0 S_t', real=True)\n",
    "expr1 = (-A_t/2) + (smp.log(d)/A_t) \n",
    "expr2 = (-A_t/2) - (smp.log(d)/A_t) \n",
    "d = ((S_0 + barL*D ) / (L*D)) *smp.exp(lambda_dev**2)\n",
    "A_t_squared = (sigma_stock**2 * (S_t/(S_t + L*D))**2)*t + lambda_dev**2\n"
   ]
  },
  {
   "attachments": {},
   "cell_type": "markdown",
   "metadata": {},
   "source": [
    "Getting $\\bar{L}$, λ and D from company and industry data rather than from the term structure of credit spreads would theoretically enable us to identify rich and cheap claims."
   ]
  },
  {
   "cell_type": "code",
   "execution_count": null,
   "metadata": {},
   "outputs": [],
   "source": [
    "# To evaluate the equation use the expression: \n",
    "A_t_squared.subs((sigma_stock,sigma_stock),(S_t,S_t),(L,L),(D,D),(t,t),(lambda_dev,lambda_dev))"
   ]
  },
  {
   "attachments": {},
   "cell_type": "markdown",
   "metadata": {},
   "source": [
    "> all the text and formulas are taken from \"The Volatility Surface: A Practitioner's Guide\" by Jim Gatheral"
   ]
  }
 ],
 "metadata": {
  "kernelspec": {
   "display_name": "Python 3",
   "language": "python",
   "name": "python3"
  },
  "language_info": {
   "codemirror_mode": {
    "name": "ipython",
    "version": 3
   },
   "file_extension": ".py",
   "mimetype": "text/x-python",
   "name": "python",
   "nbconvert_exporter": "python",
   "pygments_lexer": "ipython3",
   "version": "3.10.2"
  },
  "orig_nbformat": 4
 },
 "nbformat": 4,
 "nbformat_minor": 2
}
